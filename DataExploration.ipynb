{
 "cells": [
  {
   "cell_type": "code",
   "execution_count": null,
   "metadata": {},
   "outputs": [],
   "source": [
    "\"C:\\Users\\pipil\\OneDrive\\Работен плот\\DBLProcessMining\\Road_Traffic_Fine_Management_Process.xes\""
   ]
  },
  {
   "cell_type": "code",
   "execution_count": 1,
   "metadata": {},
   "outputs": [],
   "source": [
    "import pandas as pd\n",
    "from pm4py.objects.log.importer.xes import importer as xes_importer\n",
    "from pm4py.objects.conversion.log import converter as log_converter"
   ]
  },
  {
   "cell_type": "code",
   "execution_count": 2,
   "metadata": {},
   "outputs": [
    {
     "name": "stderr",
     "output_type": "stream",
     "text": [
      "C:\\Users\\pipil\\AppData\\Local\\Packages\\PythonSoftwareFoundation.Python.3.10_qbz5n2kfra8p0\\LocalCache\\local-packages\\Python310\\site-packages\\pm4py\\util\\dt_parsing\\parser.py:77: UserWarning: ISO8601 strings are not fully supported with strpfromiso for Python versions below 3.11\n",
      "  warnings.warn(\n",
      "C:\\Users\\pipil\\AppData\\Local\\Packages\\PythonSoftwareFoundation.Python.3.10_qbz5n2kfra8p0\\LocalCache\\local-packages\\Python310\\site-packages\\tqdm\\auto.py:21: TqdmWarning: IProgress not found. Please update jupyter and ipywidgets. See https://ipywidgets.readthedocs.io/en/stable/user_install.html\n",
      "  from .autonotebook import tqdm as notebook_tqdm\n",
      "parsing log, completed traces :: 100%|██████████| 150370/150370 [00:26<00:00, 5593.72it/s]\n"
     ]
    },
    {
     "name": "stdout",
     "output_type": "stream",
     "text": [
      "   amount org:resource dismissal              concept:name vehicleClass   \n",
      "0    35.0          561       NIL               Create Fine            A  \\\n",
      "1     NaN          NaN       NaN                 Send Fine          NaN   \n",
      "2    35.0          561       NIL               Create Fine            A   \n",
      "3     NaN          NaN       NaN                 Send Fine          NaN   \n",
      "4     NaN          NaN       NaN  Insert Fine Notification          NaN   \n",
      "\n",
      "   totalPaymentAmount lifecycle:transition            time:timestamp  article   \n",
      "0                 0.0             complete 2006-07-24 00:00:00+00:00    157.0  \\\n",
      "1                 NaN             complete 2006-12-05 00:00:00+00:00      NaN   \n",
      "2                 0.0             complete 2006-08-02 00:00:00+00:00    157.0   \n",
      "3                 NaN             complete 2006-12-12 00:00:00+00:00      NaN   \n",
      "4                 NaN             complete 2007-01-15 00:00:00+00:00      NaN   \n",
      "\n",
      "   points case:concept:name  expense notificationType lastSent  paymentAmount   \n",
      "0     0.0                A1      NaN              NaN      NaN            NaN  \\\n",
      "1     NaN                A1     11.0              NaN      NaN            NaN   \n",
      "2     0.0              A100      NaN              NaN      NaN            NaN   \n",
      "3     NaN              A100     11.0              NaN      NaN            NaN   \n",
      "4     NaN              A100      NaN                P        P            NaN   \n",
      "\n",
      "   matricola  \n",
      "0        NaN  \n",
      "1        NaN  \n",
      "2        NaN  \n",
      "3        NaN  \n",
      "4        NaN  \n"
     ]
    }
   ],
   "source": [
    "log = xes_importer.apply('Road_Traffic_Fine_Management_Process.xes')\n",
    "df = log_converter.apply(log, variant=log_converter.Variants.TO_DATA_FRAME)\n",
    "print(df.head())"
   ]
  },
  {
   "cell_type": "code",
   "execution_count": 3,
   "metadata": {},
   "outputs": [
    {
     "name": "stdout",
     "output_type": "stream",
     "text": [
      "Collecting pm4py\n",
      "  Using cached pm4py-2.7.9.4-py3-none-any.whl (1.9 MB)\n",
      "Requirement already satisfied: deprecation in c:\\users\\pipil\\appdata\\local\\packages\\pythonsoftwarefoundation.python.3.10_qbz5n2kfra8p0\\localcache\\local-packages\\python310\\site-packages (from pm4py) (2.1.0)\n",
      "Requirement already satisfied: graphviz in c:\\users\\pipil\\appdata\\local\\packages\\pythonsoftwarefoundation.python.3.10_qbz5n2kfra8p0\\localcache\\local-packages\\python310\\site-packages (from pm4py) (0.20.1)\n",
      "Requirement already satisfied: intervaltree in c:\\users\\pipil\\appdata\\local\\packages\\pythonsoftwarefoundation.python.3.10_qbz5n2kfra8p0\\localcache\\local-packages\\python310\\site-packages (from pm4py) (3.1.0)\n",
      "Requirement already satisfied: lxml in c:\\users\\pipil\\appdata\\local\\packages\\pythonsoftwarefoundation.python.3.10_qbz5n2kfra8p0\\localcache\\local-packages\\python310\\site-packages (from pm4py) (5.1.0)\n",
      "Requirement already satisfied: matplotlib in c:\\users\\pipil\\appdata\\local\\packages\\pythonsoftwarefoundation.python.3.10_qbz5n2kfra8p0\\localcache\\local-packages\\python310\\site-packages (from pm4py) (3.7.1)\n",
      "Requirement already satisfied: networkx in c:\\users\\pipil\\appdata\\local\\packages\\pythonsoftwarefoundation.python.3.10_qbz5n2kfra8p0\\localcache\\local-packages\\python310\\site-packages (from pm4py) (3.1)\n",
      "Requirement already satisfied: numpy in c:\\users\\pipil\\appdata\\local\\packages\\pythonsoftwarefoundation.python.3.10_qbz5n2kfra8p0\\localcache\\local-packages\\python310\\site-packages (from pm4py) (1.24.3)\n",
      "Requirement already satisfied: pandas in c:\\users\\pipil\\appdata\\local\\packages\\pythonsoftwarefoundation.python.3.10_qbz5n2kfra8p0\\localcache\\local-packages\\python310\\site-packages (from pm4py) (2.0.1)\n",
      "Requirement already satisfied: pydotplus in c:\\users\\pipil\\appdata\\local\\packages\\pythonsoftwarefoundation.python.3.10_qbz5n2kfra8p0\\localcache\\local-packages\\python310\\site-packages (from pm4py) (2.0.2)\n",
      "Requirement already satisfied: pytz in c:\\users\\pipil\\appdata\\local\\packages\\pythonsoftwarefoundation.python.3.10_qbz5n2kfra8p0\\localcache\\local-packages\\python310\\site-packages (from pm4py) (2023.3)\n",
      "Requirement already satisfied: scipy in c:\\users\\pipil\\appdata\\local\\packages\\pythonsoftwarefoundation.python.3.10_qbz5n2kfra8p0\\localcache\\local-packages\\python310\\site-packages (from pm4py) (1.11.4)\n",
      "Requirement already satisfied: stringdist in c:\\users\\pipil\\appdata\\local\\packages\\pythonsoftwarefoundation.python.3.10_qbz5n2kfra8p0\\localcache\\local-packages\\python310\\site-packages (from pm4py) (1.0.9)\n",
      "Requirement already satisfied: tqdm in c:\\users\\pipil\\appdata\\local\\packages\\pythonsoftwarefoundation.python.3.10_qbz5n2kfra8p0\\localcache\\local-packages\\python310\\site-packages (from pm4py) (4.65.0)\n",
      "Requirement already satisfied: cvxopt in c:\\users\\pipil\\appdata\\local\\packages\\pythonsoftwarefoundation.python.3.10_qbz5n2kfra8p0\\localcache\\local-packages\\python310\\site-packages (from pm4py) (1.3.2)\n",
      "Requirement already satisfied: packaging in c:\\users\\pipil\\appdata\\local\\packages\\pythonsoftwarefoundation.python.3.10_qbz5n2kfra8p0\\localcache\\local-packages\\python310\\site-packages (from deprecation->pm4py) (21.3)\n",
      "Requirement already satisfied: sortedcontainers<3.0,>=2.0 in c:\\users\\pipil\\appdata\\local\\packages\\pythonsoftwarefoundation.python.3.10_qbz5n2kfra8p0\\localcache\\local-packages\\python310\\site-packages (from intervaltree->pm4py) (2.4.0)\n",
      "Requirement already satisfied: contourpy>=1.0.1 in c:\\users\\pipil\\appdata\\local\\packages\\pythonsoftwarefoundation.python.3.10_qbz5n2kfra8p0\\localcache\\local-packages\\python310\\site-packages (from matplotlib->pm4py) (1.0.7)\n",
      "Requirement already satisfied: cycler>=0.10 in c:\\users\\pipil\\appdata\\local\\packages\\pythonsoftwarefoundation.python.3.10_qbz5n2kfra8p0\\localcache\\local-packages\\python310\\site-packages (from matplotlib->pm4py) (0.11.0)\n",
      "Requirement already satisfied: fonttools>=4.22.0 in c:\\users\\pipil\\appdata\\local\\packages\\pythonsoftwarefoundation.python.3.10_qbz5n2kfra8p0\\localcache\\local-packages\\python310\\site-packages (from matplotlib->pm4py) (4.39.4)\n",
      "Requirement already satisfied: kiwisolver>=1.0.1 in c:\\users\\pipil\\appdata\\local\\packages\\pythonsoftwarefoundation.python.3.10_qbz5n2kfra8p0\\localcache\\local-packages\\python310\\site-packages (from matplotlib->pm4py) (1.4.4)\n",
      "Requirement already satisfied: pillow>=6.2.0 in c:\\users\\pipil\\appdata\\local\\packages\\pythonsoftwarefoundation.python.3.10_qbz5n2kfra8p0\\localcache\\local-packages\\python310\\site-packages (from matplotlib->pm4py) (9.5.0)\n",
      "Requirement already satisfied: pyparsing>=2.3.1 in c:\\users\\pipil\\appdata\\local\\packages\\pythonsoftwarefoundation.python.3.10_qbz5n2kfra8p0\\localcache\\local-packages\\python310\\site-packages (from matplotlib->pm4py) (3.0.9)\n",
      "Requirement already satisfied: python-dateutil>=2.7 in c:\\users\\pipil\\appdata\\local\\packages\\pythonsoftwarefoundation.python.3.10_qbz5n2kfra8p0\\localcache\\local-packages\\python310\\site-packages (from matplotlib->pm4py) (2.8.2)\n",
      "Requirement already satisfied: tzdata>=2022.1 in c:\\users\\pipil\\appdata\\local\\packages\\pythonsoftwarefoundation.python.3.10_qbz5n2kfra8p0\\localcache\\local-packages\\python310\\site-packages (from pandas->pm4py) (2023.3)\n",
      "Requirement already satisfied: colorama in c:\\users\\pipil\\appdata\\local\\packages\\pythonsoftwarefoundation.python.3.10_qbz5n2kfra8p0\\localcache\\local-packages\\python310\\site-packages (from tqdm->pm4py) (0.4.5)\n",
      "Requirement already satisfied: six>=1.5 in c:\\users\\pipil\\appdata\\local\\packages\\pythonsoftwarefoundation.python.3.10_qbz5n2kfra8p0\\localcache\\local-packages\\python310\\site-packages (from python-dateutil>=2.7->matplotlib->pm4py) (1.16.0)\n",
      "Installing collected packages: pm4py\n"
     ]
    },
    {
     "name": "stderr",
     "output_type": "stream",
     "text": [
      "ERROR: Could not install packages due to an OSError: [Errno 2] No such file or directory: 'C:\\\\Users\\\\pipil\\\\AppData\\\\Local\\\\Packages\\\\PythonSoftwareFoundation.Python.3.10_qbz5n2kfra8p0\\\\LocalCache\\\\local-packages\\\\Python310\\\\site-packages\\\\pm4py\\\\algo\\\\discovery\\\\powl\\\\inductive\\\\variants\\\\dynamic_clustering_frequency\\\\dynamic_clustering_frequency_partial_order_cut.py'\n",
      "HINT: This error might have occurred since this system does not have Windows Long Path support enabled. You can find information on how to enable this at https://pip.pypa.io/warnings/enable-long-paths\n",
      "\n",
      "\n",
      "[notice] A new release of pip is available: 23.1.2 -> 24.0\n",
      "[notice] To update, run: C:\\Users\\pipil\\AppData\\Local\\Microsoft\\WindowsApps\\PythonSoftwareFoundation.Python.3.10_qbz5n2kfra8p0\\python.exe -m pip install --upgrade pip\n"
     ]
    }
   ],
   "source": [
    "!pip install pm4py"
   ]
  },
  {
   "cell_type": "code",
   "execution_count": 4,
   "metadata": {},
   "outputs": [
    {
     "name": "stdout",
     "output_type": "stream",
     "text": [
      "Collecting pm4py\n",
      "  Using cached pm4py-2.7.9.4-py3-none-any.whl (1.9 MB)\n",
      "Requirement already satisfied: deprecation in c:\\users\\pipil\\appdata\\local\\packages\\pythonsoftwarefoundation.python.3.10_qbz5n2kfra8p0\\localcache\\local-packages\\python310\\site-packages (from pm4py) (2.1.0)\n",
      "Requirement already satisfied: graphviz in c:\\users\\pipil\\appdata\\local\\packages\\pythonsoftwarefoundation.python.3.10_qbz5n2kfra8p0\\localcache\\local-packages\\python310\\site-packages (from pm4py) (0.20.1)\n",
      "Requirement already satisfied: intervaltree in c:\\users\\pipil\\appdata\\local\\packages\\pythonsoftwarefoundation.python.3.10_qbz5n2kfra8p0\\localcache\\local-packages\\python310\\site-packages (from pm4py) (3.1.0)\n",
      "Requirement already satisfied: lxml in c:\\users\\pipil\\appdata\\local\\packages\\pythonsoftwarefoundation.python.3.10_qbz5n2kfra8p0\\localcache\\local-packages\\python310\\site-packages (from pm4py) (5.1.0)\n",
      "Requirement already satisfied: matplotlib in c:\\users\\pipil\\appdata\\local\\packages\\pythonsoftwarefoundation.python.3.10_qbz5n2kfra8p0\\localcache\\local-packages\\python310\\site-packages (from pm4py) (3.7.1)\n",
      "Requirement already satisfied: networkx in c:\\users\\pipil\\appdata\\local\\packages\\pythonsoftwarefoundation.python.3.10_qbz5n2kfra8p0\\localcache\\local-packages\\python310\\site-packages (from pm4py) (3.1)\n",
      "Requirement already satisfied: numpy in c:\\users\\pipil\\appdata\\local\\packages\\pythonsoftwarefoundation.python.3.10_qbz5n2kfra8p0\\localcache\\local-packages\\python310\\site-packages (from pm4py) (1.24.3)\n",
      "Requirement already satisfied: pandas in c:\\users\\pipil\\appdata\\local\\packages\\pythonsoftwarefoundation.python.3.10_qbz5n2kfra8p0\\localcache\\local-packages\\python310\\site-packages (from pm4py) (2.0.1)\n",
      "Requirement already satisfied: pydotplus in c:\\users\\pipil\\appdata\\local\\packages\\pythonsoftwarefoundation.python.3.10_qbz5n2kfra8p0\\localcache\\local-packages\\python310\\site-packages (from pm4py) (2.0.2)\n",
      "Requirement already satisfied: pytz in c:\\users\\pipil\\appdata\\local\\packages\\pythonsoftwarefoundation.python.3.10_qbz5n2kfra8p0\\localcache\\local-packages\\python310\\site-packages (from pm4py) (2023.3)\n",
      "Requirement already satisfied: scipy in c:\\users\\pipil\\appdata\\local\\packages\\pythonsoftwarefoundation.python.3.10_qbz5n2kfra8p0\\localcache\\local-packages\\python310\\site-packages (from pm4py) (1.11.4)\n",
      "Requirement already satisfied: stringdist in c:\\users\\pipil\\appdata\\local\\packages\\pythonsoftwarefoundation.python.3.10_qbz5n2kfra8p0\\localcache\\local-packages\\python310\\site-packages (from pm4py) (1.0.9)\n",
      "Requirement already satisfied: tqdm in c:\\users\\pipil\\appdata\\local\\packages\\pythonsoftwarefoundation.python.3.10_qbz5n2kfra8p0\\localcache\\local-packages\\python310\\site-packages (from pm4py) (4.65.0)\n",
      "Requirement already satisfied: cvxopt in c:\\users\\pipil\\appdata\\local\\packages\\pythonsoftwarefoundation.python.3.10_qbz5n2kfra8p0\\localcache\\local-packages\\python310\\site-packages (from pm4py) (1.3.2)\n",
      "Requirement already satisfied: packaging in c:\\users\\pipil\\appdata\\local\\packages\\pythonsoftwarefoundation.python.3.10_qbz5n2kfra8p0\\localcache\\local-packages\\python310\\site-packages (from deprecation->pm4py) (21.3)\n",
      "Requirement already satisfied: sortedcontainers<3.0,>=2.0 in c:\\users\\pipil\\appdata\\local\\packages\\pythonsoftwarefoundation.python.3.10_qbz5n2kfra8p0\\localcache\\local-packages\\python310\\site-packages (from intervaltree->pm4py) (2.4.0)\n",
      "Requirement already satisfied: contourpy>=1.0.1 in c:\\users\\pipil\\appdata\\local\\packages\\pythonsoftwarefoundation.python.3.10_qbz5n2kfra8p0\\localcache\\local-packages\\python310\\site-packages (from matplotlib->pm4py) (1.0.7)\n",
      "Requirement already satisfied: cycler>=0.10 in c:\\users\\pipil\\appdata\\local\\packages\\pythonsoftwarefoundation.python.3.10_qbz5n2kfra8p0\\localcache\\local-packages\\python310\\site-packages (from matplotlib->pm4py) (0.11.0)\n",
      "Requirement already satisfied: fonttools>=4.22.0 in c:\\users\\pipil\\appdata\\local\\packages\\pythonsoftwarefoundation.python.3.10_qbz5n2kfra8p0\\localcache\\local-packages\\python310\\site-packages (from matplotlib->pm4py) (4.39.4)\n",
      "Requirement already satisfied: kiwisolver>=1.0.1 in c:\\users\\pipil\\appdata\\local\\packages\\pythonsoftwarefoundation.python.3.10_qbz5n2kfra8p0\\localcache\\local-packages\\python310\\site-packages (from matplotlib->pm4py) (1.4.4)\n",
      "Requirement already satisfied: pillow>=6.2.0 in c:\\users\\pipil\\appdata\\local\\packages\\pythonsoftwarefoundation.python.3.10_qbz5n2kfra8p0\\localcache\\local-packages\\python310\\site-packages (from matplotlib->pm4py) (9.5.0)\n",
      "Requirement already satisfied: pyparsing>=2.3.1 in c:\\users\\pipil\\appdata\\local\\packages\\pythonsoftwarefoundation.python.3.10_qbz5n2kfra8p0\\localcache\\local-packages\\python310\\site-packages (from matplotlib->pm4py) (3.0.9)\n",
      "Requirement already satisfied: python-dateutil>=2.7 in c:\\users\\pipil\\appdata\\local\\packages\\pythonsoftwarefoundation.python.3.10_qbz5n2kfra8p0\\localcache\\local-packages\\python310\\site-packages (from matplotlib->pm4py) (2.8.2)\n",
      "Requirement already satisfied: tzdata>=2022.1 in c:\\users\\pipil\\appdata\\local\\packages\\pythonsoftwarefoundation.python.3.10_qbz5n2kfra8p0\\localcache\\local-packages\\python310\\site-packages (from pandas->pm4py) (2023.3)\n",
      "Requirement already satisfied: colorama in c:\\users\\pipil\\appdata\\local\\packages\\pythonsoftwarefoundation.python.3.10_qbz5n2kfra8p0\\localcache\\local-packages\\python310\\site-packages (from tqdm->pm4py) (0.4.5)\n",
      "Requirement already satisfied: six>=1.5 in c:\\users\\pipil\\appdata\\local\\packages\\pythonsoftwarefoundation.python.3.10_qbz5n2kfra8p0\\localcache\\local-packages\\python310\\site-packages (from python-dateutil>=2.7->matplotlib->pm4py) (1.16.0)\n",
      "Installing collected packages: pm4py\n",
      "Note: you may need to restart the kernel to use updated packages.\n"
     ]
    },
    {
     "name": "stderr",
     "output_type": "stream",
     "text": [
      "ERROR: Could not install packages due to an OSError: [Errno 2] No such file or directory: 'C:\\\\Users\\\\pipil\\\\AppData\\\\Local\\\\Packages\\\\PythonSoftwareFoundation.Python.3.10_qbz5n2kfra8p0\\\\LocalCache\\\\local-packages\\\\Python310\\\\site-packages\\\\pm4py\\\\algo\\\\discovery\\\\powl\\\\inductive\\\\variants\\\\dynamic_clustering_frequency\\\\dynamic_clustering_frequency_partial_order_cut.py'\n",
      "HINT: This error might have occurred since this system does not have Windows Long Path support enabled. You can find information on how to enable this at https://pip.pypa.io/warnings/enable-long-paths\n",
      "\n",
      "\n",
      "[notice] A new release of pip is available: 23.1.2 -> 24.0\n",
      "[notice] To update, run: C:\\Users\\pipil\\AppData\\Local\\Microsoft\\WindowsApps\\PythonSoftwareFoundation.Python.3.10_qbz5n2kfra8p0\\python.exe -m pip install --upgrade pip\n"
     ]
    }
   ],
   "source": [
    "pip install pm4py --user"
   ]
  },
  {
   "cell_type": "code",
   "execution_count": 5,
   "metadata": {},
   "outputs": [
    {
     "name": "stdout",
     "output_type": "stream",
     "text": [
      "Note: you may need to restart the kernel to use updated packages.\n"
     ]
    },
    {
     "name": "stderr",
     "output_type": "stream",
     "text": [
      "ERROR: unknown command \"upgrade\"\n",
      "\n"
     ]
    }
   ],
   "source": [
    "pip upgrade"
   ]
  },
  {
   "cell_type": "code",
   "execution_count": null,
   "metadata": {},
   "outputs": [],
   "source": []
  }
 ],
 "metadata": {
  "kernelspec": {
   "display_name": "Python 3",
   "language": "python",
   "name": "python3"
  },
  "language_info": {
   "codemirror_mode": {
    "name": "ipython",
    "version": 3
   },
   "file_extension": ".py",
   "mimetype": "text/x-python",
   "name": "python",
   "nbconvert_exporter": "python",
   "pygments_lexer": "ipython3",
   "version": "3.10.11"
  }
 },
 "nbformat": 4,
 "nbformat_minor": 2
}
